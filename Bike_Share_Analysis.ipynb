{
 "cells": [
  {
   "cell_type": "markdown",
   "metadata": {},
   "source": [
    "# 2016 US Bike Share Activity Snapshot\n",
    "\n",
    "## Table of Contents\n",
    "- [Introduction](#intro)\n",
    "- [Posing Questions](#pose_questions)\n",
    "- [Data Collection and Wrangling](#wrangling)\n",
    "  - [Condensing the Trip Data](#condensing)\n",
    "- [Exploratory Data Analysis](#eda)\n",
    "  - [Statistics](#statistics)\n",
    "  - [Visualizations](#visualizations)\n",
    "- [Performing Your Own Analysis](#eda_continued)\n",
    "- [Conclusions](#conclusions)\n",
    "\n",
    "<a id='intro'></a>\n",
    "## Introduction\n",
    "\n",
    "> **Tip**: Quoted sections like this will provide helpful instructions on how to navigate and use a Jupyter notebook.\n",
    "\n",
    "Over the past decade, bicycle-sharing systems have been growing in number and popularity in cities across the world. Bicycle-sharing systems allow users to rent bicycles for short trips, typically 30 minutes or less. Thanks to the rise in information technologies, it is easy for a user of the system to access a dock within the system to unlock or return bicycles. These technologies also provide a wealth of data that can be used to explore how these bike-sharing systems are used.\n",
    "\n",
    "In this project, you will perform an exploratory analysis on data provided by [Motivate](https://www.motivateco.com/), a bike-share system provider for many major cities in the United States. You will compare the system usage between three large cities: New York City, Chicago, and Washington, DC. You will also see if there are any differences within each system for those users that are registered, regular users and those users that are short-term, casual users."
   ]
  },
  {
   "cell_type": "markdown",
   "metadata": {},
   "source": [
    "<a id='pose_questions'></a>\n",
    "## Posing Questions\n",
    "\n",
    "Before looking at the bike sharing data, you should start by asking questions you might want to understand about the bike share data. Consider, for example, if you were working for Motivate. What kinds of information would you want to know about in order to make smarter business decisions? If you were a user of the bike-share service, what factors might influence how you would want to use the service?\n",
    "\n",
    "**Question 1**: Write at least two questions related to bike sharing that you think could be answered by data.\n",
    "\n",
    "**Answer**: \n",
    "\n",
    "1. What is the peak usage time for bike sharing - peak time of the day, of the week, of month and of the year, etc? This information will enable bike sharing business to meet the demand during those times in order to get more business\n",
    "2. What are the locations mostly used to pickup and drop bike? This will help the business to identify the prime location(s) so they put more bikes or can add more pick-up/drop locations around that area.\n",
    "3. What percentage of total users re-use the service and how regularly? This can help company identify trend to tie reuse of service to location, timing, cost, etc. This information can be used to try to get the one-time-users to re-use the service as well as to have recurring customer re-use service even more often. \n",
    "4. Data can also be used to answer questions related to the customer.Like - who uses the service most - Male/female, age group and how many of these are subscribers or one-timers \n",
    "\n",
    "\n",
    "> **Tip**: If you double click on this cell, you will see the text change so that all of the formatting is removed. This allows you to edit this block of text. This block of text is written using [Markdown](http://daringfireball.net/projects/markdown/syntax), which is a way to format text using headers, links, italics, and many other options using a plain-text syntax. You will also use Markdown later in the Nanodegree program. Use **Shift** + **Enter** or **Shift** + **Return** to run the cell and show its rendered form."
   ]
  },
  {
   "cell_type": "markdown",
   "metadata": {},
   "source": [
    "<a id='wrangling'></a>\n",
    "## Data Collection and Wrangling\n",
    "\n",
    "Now it's time to collect and explore our data. In this project, we will focus on the record of individual trips taken in 2016 from our selected cities: New York City, Chicago, and Washington, DC. Each of these cities has a page where we can freely download the trip data.:\n",
    "\n",
    "- New York City (Citi Bike): [Link](https://www.citibikenyc.com/system-data)\n",
    "- Chicago (Divvy): [Link](https://www.divvybikes.com/system-data)\n",
    "- Washington, DC (Capital Bikeshare): [Link](https://www.capitalbikeshare.com/system-data)\n",
    "\n",
    "If you visit these pages, you will notice that each city has a different way of delivering its data. Chicago updates with new data twice a year, Washington DC is quarterly, and New York City is monthly. **However, you do not need to download the data yourself.** The data has already been collected for you in the `/data/` folder of the project files. While the original data for 2016 is spread among multiple files for each city, the files in the `/data/` folder collect all of the trip data for the year into one file per city. Some data wrangling of inconsistencies in timestamp format within each city has already been performed for you. In addition, a random 2% sample of the original data is taken to make the exploration more manageable. \n",
    "\n",
    "**Question 2**: However, there is still a lot of data for us to investigate, so it's a good idea to start off by looking at one entry from each of the cities we're going to analyze. Run the first code cell below to load some packages and functions that you'll be using in your analysis. Then, complete the second code cell to print out the first trip recorded from each of the cities (the second line of each data file).\n",
    "\n",
    "> **Tip**: You can run a code cell like you formatted Markdown cells above by clicking on the cell and using the keyboard shortcut **Shift** + **Enter** or **Shift** + **Return**. Alternatively, a code cell can be executed using the **Play** button in the toolbar after selecting it. While the cell is running, you will see an asterisk in the message to the left of the cell, i.e. `In [*]:`. The asterisk will change into a number to show that execution has completed, e.g. `In [1]`. If there is output, it will show up as `Out [1]:`, with an appropriate number to match the \"In\" number."
   ]
  },
  {
   "cell_type": "code",
   "execution_count": 1,
   "metadata": {
    "collapsed": true
   },
   "outputs": [],
   "source": [
    "## import all necessary packages and functions.\n",
    "import csv # read and write csv files\n",
    "from datetime import datetime # operations to parse dates\n",
    "from pprint import pprint # use to print data structures like dictionaries in\n",
    "                          # a nicer way than the base print function."
   ]
  },
  {
   "cell_type": "code",
   "execution_count": 2,
   "metadata": {},
   "outputs": [
    {
     "name": "stdout",
     "output_type": "stream",
     "text": [
      "\n",
      "City: NYC\n",
      "OrderedDict([('tripduration', '839'),\n",
      "             ('starttime', '1/1/2016 00:09:55'),\n",
      "             ('stoptime', '1/1/2016 00:23:54'),\n",
      "             ('start station id', '532'),\n",
      "             ('start station name', 'S 5 Pl & S 4 St'),\n",
      "             ('start station latitude', '40.710451'),\n",
      "             ('start station longitude', '-73.960876'),\n",
      "             ('end station id', '401'),\n",
      "             ('end station name', 'Allen St & Rivington St'),\n",
      "             ('end station latitude', '40.72019576'),\n",
      "             ('end station longitude', '-73.98997825'),\n",
      "             ('bikeid', '17109'),\n",
      "             ('usertype', 'Customer'),\n",
      "             ('birth year', ''),\n",
      "             ('gender', '0')])\n",
      "\n",
      "City: Chicago\n",
      "OrderedDict([('trip_id', '9080545'),\n",
      "             ('starttime', '3/31/2016 23:30'),\n",
      "             ('stoptime', '3/31/2016 23:46'),\n",
      "             ('bikeid', '2295'),\n",
      "             ('tripduration', '926'),\n",
      "             ('from_station_id', '156'),\n",
      "             ('from_station_name', 'Clark St & Wellington Ave'),\n",
      "             ('to_station_id', '166'),\n",
      "             ('to_station_name', 'Ashland Ave & Wrightwood Ave'),\n",
      "             ('usertype', 'Subscriber'),\n",
      "             ('gender', 'Male'),\n",
      "             ('birthyear', '1990')])\n",
      "\n",
      "City: Washington\n",
      "OrderedDict([('Duration (ms)', '427387'),\n",
      "             ('Start date', '3/31/2016 22:57'),\n",
      "             ('End date', '3/31/2016 23:04'),\n",
      "             ('Start station number', '31602'),\n",
      "             ('Start station', 'Park Rd & Holmead Pl NW'),\n",
      "             ('End station number', '31207'),\n",
      "             ('End station', 'Georgia Ave and Fairmont St NW'),\n",
      "             ('Bike number', 'W20842'),\n",
      "             ('Member Type', 'Registered')])\n"
     ]
    }
   ],
   "source": [
    "def print_first_point(filename):\n",
    "    \"\"\"\n",
    "    This function prints and returns the first data point (second row) from\n",
    "    a csv file that includes a header row.\n",
    "    \"\"\"\n",
    "    # print city name for reference\n",
    "    city = filename.split('-')[0].split('/')[-1]\n",
    "    print('\\nCity: {}'.format(city))\n",
    "    \n",
    "    with open(filename, 'r') as f_in:\n",
    "        ## Using the csv library to set up a DictReader object. ##\n",
    "        trip_reader = csv.DictReader(f_in)\n",
    "                \n",
    "        ## Reading first trip from the data file and store it in a variable ##\n",
    "        first_trip = next(trip_reader)\n",
    "        \n",
    "        ## Using the pprint library to print the first trip ##\n",
    "        pprint(first_trip)\n",
    "        \n",
    "    # output city name and first trip for later testing\n",
    "    return (city, first_trip)\n",
    "\n",
    "# list of files for each city\n",
    "data_files = ['./data/NYC-CitiBike-2016.csv',\n",
    "              './data/Chicago-Divvy-2016.csv',\n",
    "              './data/Washington-CapitalBikeshare-2016.csv',]\n",
    "\n",
    "# print the first trip from each file, store in dictionary\n",
    "example_trips = {}\n",
    "for data_file in data_files:\n",
    "    city, first_trip = print_first_point(data_file)\n",
    "    example_trips[city] = first_trip"
   ]
  },
  {
   "cell_type": "markdown",
   "metadata": {},
   "source": [
    "If everything has been filled out correctly, you should see below the printout of each city name (which has been parsed from the data file name) that the first trip has been parsed in the form of a dictionary. When you set up a `DictReader` object, the first row of the data file is normally interpreted as column names. Every other row in the data file will use those column names as keys, as a dictionary is generated for each row.\n",
    "\n",
    "This will be useful since we can refer to quantities by an easily-understandable label instead of just a numeric index. For example, if we have a trip stored in the variable `row`, then we would rather get the trip duration from `row['duration']` instead of `row[0]`.\n",
    "\n",
    "<a id='condensing'></a>\n",
    "### Condensing the Trip Data\n",
    "\n",
    "It should also be observable from the above printout that each city provides different information. Even where the information is the same, the column names and formats are sometimes different. To make things as simple as possible when we get to the actual exploration, we should trim and clean the data. Cleaning the data makes sure that the data formats across the cities are consistent, while trimming focuses only on the parts of the data we are most interested in to make the exploration easier to work with.\n",
    "\n",
    "You will generate new data files with five values of interest for each trip: trip duration, starting month, starting hour, day of the week, and user type. Each of these may require additional wrangling depending on the city:\n",
    "\n",
    "- **Duration**: This has been given to us in seconds (New York, Chicago) or milliseconds (Washington). A more natural unit of analysis will be if all the trip durations are given in terms of minutes.\n",
    "- **Month**, **Hour**, **Day of Week**: Ridership volume is likely to change based on the season, time of day, and whether it is a weekday or weekend. Use the start time of the trip to obtain these values. The New York City data includes the seconds in their timestamps, while Washington and Chicago do not. The [`datetime`](https://docs.python.org/3/library/datetime.html) package will be very useful here to make the needed conversions.\n",
    "- **User Type**: It is possible that users who are subscribed to a bike-share system will have different patterns of use compared to users who only have temporary passes. Washington divides its users into two types: 'Registered' for users with annual, monthly, and other longer-term subscriptions, and 'Casual', for users with 24-hour, 3-day, and other short-term passes. The New York and Chicago data uses 'Subscriber' and 'Customer' for these groups, respectively. For consistency, you will convert the Washington labels to match the other two.\n",
    "\n",
    "\n",
    "**Question 3a**: Complete the helper functions in the code cells below to address each of the cleaning tasks described above."
   ]
  },
  {
   "cell_type": "code",
   "execution_count": 3,
   "metadata": {
    "collapsed": true
   },
   "outputs": [],
   "source": [
    "def duration_in_mins(datum, city):\n",
    "    \"\"\"\n",
    "    Takes as input a dictionary containing info about a single trip (datum) and\n",
    "    its origin city (city) and returns the trip duration in units of minutes.\n",
    "    \n",
    "    Remember that Washington is in terms of milliseconds while Chicago and NYC\n",
    "    are in terms of seconds. \n",
    "    \n",
    "    HINT: The csv module reads in all of the data as strings, including numeric\n",
    "    values. You will need a function to convert the strings into an appropriate\n",
    "    numeric type when making your transformations.\n",
    "    see https://docs.python.org/3/library/functions.html\n",
    "    \"\"\"\n",
    "    \n",
    "    if city == 'Washington':\n",
    "        # Converting milliseconds in Washington's trip-duration to Minutes & storing the result in 'duration' #\n",
    "        duration = (float(datum['Duration (ms)'])/1000) / 60\n",
    "    else:\n",
    "        # Converting seconds in NYC & Chicago trip-duration to Minutes & storing the result in 'duration'  #\n",
    "        duration = float(datum['tripduration'])/60\n",
    "        \n",
    "    return duration\n",
    "\n",
    "\n",
    "# Some tests to check that your code works. There should be no output if all of\n",
    "# the assertions pass. The `example_trips` dictionary was obtained from when\n",
    "# you printed the first trip from each of the original data files.\n",
    "tests = {'NYC': 13.9833,\n",
    "         'Chicago': 15.4333,\n",
    "         'Washington': 7.1231}\n",
    "\n",
    "for city in tests:\n",
    "    assert abs(duration_in_mins(example_trips[city], city) - tests[city]) < .001"
   ]
  },
  {
   "cell_type": "code",
   "execution_count": 4,
   "metadata": {
    "collapsed": true
   },
   "outputs": [],
   "source": [
    "import datetime \n",
    "def time_of_trip(datum, city):\n",
    "    \"\"\"\n",
    "    Takes as input a dictionary containing info about a single trip (datum) and\n",
    "    its origin city (city) and returns the month, hour, and day of the week in\n",
    "    which the trip was made.\n",
    "    \n",
    "    Remember that NYC includes seconds, while Washington and Chicago do not.\n",
    "    \n",
    "    HINT: You should use the datetime module to parse the original date\n",
    "    strings into a format that is useful for extracting the desired information.\n",
    "    see https://docs.python.org/3/library/datetime.html#strftime-and-strptime-behavior\n",
    "    \"\"\"\n",
    "    \n",
    "    if city == 'Washington':\n",
    "        # Converting Start date (string) to datetime format and storing the result in 'formatted_date' #\n",
    "        formatted_date = datetime.datetime.strptime(datum['Start date'],'%m/%d/%Y %H:%M')\n",
    "        \n",
    "        # Using formatted_date to populate month, hour and day of the week by referencing format code  #\n",
    "        month = int(formatted_date.strftime('%m'))\n",
    "        hour = int(formatted_date.strftime('%H'))\n",
    "        day_of_week = formatted_date.strftime('%A')\n",
    "        \n",
    "    elif city == 'NYC':\n",
    "        # Converting Start date (string) to datetime format and storing the result in 'formatted_date' #\n",
    "        formatted_date = datetime.datetime.strptime(datum['starttime'],'%m/%d/%Y %H:%M:%S')\n",
    "        \n",
    "        # Using formatted_date to populate month, hour and day of the week by referencing format code  #\n",
    "        month = int(formatted_date.strftime('%m'))\n",
    "        hour = int(formatted_date.strftime('%H'))\n",
    "        day_of_week = formatted_date.strftime('%A')\n",
    "\n",
    "    else:\n",
    "        # Converting Start date (string) to datetime format and storing the result in 'formatted_date' #\n",
    "        formatted_date = datetime.datetime.strptime(datum['starttime'],'%m/%d/%Y %H:%M')\n",
    "        \n",
    "        # Using formatted_date to populate month, hour and day of the week by referencing format code  #\n",
    "        month = int(formatted_date.strftime('%m'))\n",
    "        hour = int(formatted_date.strftime('%H'))\n",
    "        day_of_week = formatted_date.strftime('%A')      \n",
    "        \n",
    "    return (month, hour, day_of_week)\n",
    "\n",
    "\n",
    "# Some tests to check that your code works. There should be no output if all of\n",
    "# the assertions pass. The `example_trips` dictionary was obtained from when\n",
    "# you printed the first trip from each of the original data files.\n",
    "tests = {'NYC': (1, 0, 'Friday'),\n",
    "         'Chicago': (3, 23, 'Thursday'),\n",
    "         'Washington': (3, 22, 'Thursday')}\n",
    "\n",
    "for city in tests:\n",
    "    assert time_of_trip(example_trips[city], city) == tests[city]"
   ]
  },
  {
   "cell_type": "code",
   "execution_count": 5,
   "metadata": {
    "collapsed": true
   },
   "outputs": [],
   "source": [
    "def type_of_user(datum, city):\n",
    "    \"\"\"\n",
    "    Takes as input a dictionary containing info about a single trip (datum) and\n",
    "    its origin city (city) and returns the type of system user that made the\n",
    "    trip.\n",
    "    \n",
    "    Remember that Washington has different category names compared to Chicago\n",
    "    and NYC. \n",
    "    \"\"\"\n",
    "    \n",
    "    # For Washington, converting Member Type to 'Subscriber' if 'Registered'# \n",
    "    # and to 'Customer' if 'Casual' to match with userType of other cities. #\n",
    "    if city == 'Washington':\n",
    "        if datum['Member Type'] == 'Registered':\n",
    "            user_type = 'Subscriber'\n",
    "        else:\n",
    "            user_type = 'Customer'\n",
    "    else:\n",
    "        user_type = datum['usertype']\n",
    "        \n",
    "    \n",
    "    return user_type\n",
    "\n",
    "\n",
    "# Some tests to check that your code works. There should be no output if all of\n",
    "# the assertions pass. The `example_trips` dictionary was obtained from when\n",
    "# you printed the first trip from each of the original data files.\n",
    "tests = {'NYC': 'Customer',\n",
    "         'Chicago': 'Subscriber',\n",
    "         'Washington': 'Subscriber'}\n",
    "\n",
    "for city in tests:\n",
    "    assert type_of_user(example_trips[city], city) == tests[city]"
   ]
  },
  {
   "cell_type": "markdown",
   "metadata": {},
   "source": [
    "**Question 3b**: Now, use the helper functions you wrote above to create a condensed data file for each city consisting only of the data fields indicated above. In the `/examples/` folder, you will see an example datafile from the [Bay Area Bike Share](http://www.bayareabikeshare.com/open-data) before and after conversion. Make sure that your output is formatted to be consistent with the example file."
   ]
  },
  {
   "cell_type": "code",
   "execution_count": 6,
   "metadata": {
    "collapsed": true
   },
   "outputs": [],
   "source": [
    "def condense_data(in_file, out_file, city):\n",
    "    \"\"\"\n",
    "    This function takes full data from the specified input file\n",
    "    and writes the condensed data to a specified output file. The city\n",
    "    argument determines how the input file will be parsed.\n",
    "    \n",
    "    HINT: See the cell below to see how the arguments are structured!\n",
    "    \"\"\"\n",
    "    \n",
    "    with open(out_file, 'w') as f_out, open(in_file, 'r') as f_in:\n",
    "        # set up csv DictWriter object - writer requires column names for the\n",
    "        # first row as the \"fieldnames\" argument\n",
    "        out_colnames = ['duration', 'month', 'hour', 'day_of_week', 'user_type']        \n",
    "        trip_writer = csv.DictWriter(f_out, fieldnames = out_colnames)\n",
    "        trip_writer.writeheader()\n",
    "        \n",
    "        ## Set up csv DictReader object ##\n",
    "        trip_reader = csv.DictReader(f_in)\n",
    "\n",
    "        \n",
    "        # set up a dictionary to hold the values for the cleaned and trimmed\n",
    "        # data point\n",
    "        new_point = {}\n",
    "        \n",
    "        # Collect data from and process each row\n",
    "        for row in trip_reader:\n",
    "            ## using the helper functions to get the cleaned data from      ##\n",
    "            ## the original data dictionaries.                              ##\n",
    "            new_point['duration'] = duration_in_mins(row, city)\n",
    "            new_point['month'] = time_of_trip(row, city)[0]\n",
    "            new_point['hour'] = time_of_trip(row, city)[1]\n",
    "            new_point['day_of_week'] = time_of_trip(row, city)[2]\n",
    "            new_point['user_type'] = type_of_user(row, city)\n",
    "\n",
    "            ## Writing the processed information to the output file.         ##\n",
    "            trip_writer.writerow(new_point)\n",
    "            "
   ]
  },
  {
   "cell_type": "code",
   "execution_count": 7,
   "metadata": {},
   "outputs": [
    {
     "name": "stdout",
     "output_type": "stream",
     "text": [
      "\n",
      "City: Washington\n",
      "OrderedDict([('duration', '7.123116666666666'),\n",
      "             ('month', '3'),\n",
      "             ('hour', '22'),\n",
      "             ('day_of_week', 'Thursday'),\n",
      "             ('user_type', 'Subscriber')])\n",
      "\n",
      "City: Chicago\n",
      "OrderedDict([('duration', '15.433333333333334'),\n",
      "             ('month', '3'),\n",
      "             ('hour', '23'),\n",
      "             ('day_of_week', 'Thursday'),\n",
      "             ('user_type', 'Subscriber')])\n",
      "\n",
      "City: NYC\n",
      "OrderedDict([('duration', '13.983333333333333'),\n",
      "             ('month', '1'),\n",
      "             ('hour', '0'),\n",
      "             ('day_of_week', 'Friday'),\n",
      "             ('user_type', 'Customer')])\n"
     ]
    }
   ],
   "source": [
    "# Run this cell to check your work\n",
    "city_info = {'Washington': {'in_file': './data/Washington-CapitalBikeshare-2016.csv',\n",
    "                            'out_file': './data/Washington-2016-Summary.csv'},\n",
    "             'Chicago': {'in_file': './data/Chicago-Divvy-2016.csv',\n",
    "                         'out_file': './data/Chicago-2016-Summary.csv'},\n",
    "             'NYC': {'in_file': './data/NYC-CitiBike-2016.csv',\n",
    "                     'out_file': './data/NYC-2016-Summary.csv'}}\n",
    "\n",
    "for city, filenames in city_info.items():\n",
    "    condense_data(filenames['in_file'], filenames['out_file'], city)\n",
    "    print_first_point(filenames['out_file'])"
   ]
  },
  {
   "cell_type": "markdown",
   "metadata": {},
   "source": [
    "> **Tip**: If you save a jupyter Notebook, the output from running code blocks will also be saved. However, the state of your workspace will be reset once a new session is started. Make sure that you run all of the necessary code blocks from your previous session to reestablish variables and functions before picking up where you last left off.\n",
    "\n",
    "<a id='eda'></a>\n",
    "## Exploratory Data Analysis\n",
    "\n",
    "Now that you have the data collected and wrangled, you're ready to start exploring the data. In this section you will write some code to compute descriptive statistics from the data. You will also be introduced to the `matplotlib` library to create some basic histograms of the data.\n",
    "\n",
    "<a id='statistics'></a>\n",
    "### Statistics\n",
    "\n",
    "First, let's compute some basic counts. The first cell below contains a function that uses the csv module to iterate through a provided data file, returning the number of trips made by subscribers and customers. The second cell runs this function on the example Bay Area data in the `/examples/` folder. Modify the cells to answer the question below.\n",
    "\n",
    "**Question 4a**: Which city has the highest number of trips? Which city has the highest proportion of trips made by subscribers? Which city has the highest proportion of trips made by short-term customers?\n",
    "\n",
    "**Answer**: \n",
    "\n",
    "- **NYC has highest number of over-all trips**\n",
    "- **NYC has highest number of trips made by subscribers**\n",
    "- **NYC has highest number of trips made by short-term-customers**\n",
    "\n"
   ]
  },
  {
   "cell_type": "code",
   "execution_count": 8,
   "metadata": {
    "collapsed": true
   },
   "outputs": [],
   "source": [
    "def number_of_trips(filename):\n",
    "    \"\"\"\n",
    "    This function reads in a file with trip data and reports the number of\n",
    "    trips made by subscribers, customers, and total overall.\n",
    "    \"\"\"\n",
    "    with open(filename, 'r') as f_in:\n",
    "        # set up csv reader object\n",
    "        reader = csv.DictReader(f_in)\n",
    "        \n",
    "        # initialize count variables\n",
    "        n_subscribers = 0\n",
    "        n_customers = 0\n",
    "        \n",
    "        # tally up ride types\n",
    "        for row in reader:\n",
    "            if row['user_type'] == 'Subscriber':\n",
    "                n_subscribers += 1\n",
    "            else:\n",
    "                n_customers += 1\n",
    "        \n",
    "        # compute total number of rides\n",
    "        n_total = n_subscribers + n_customers\n",
    "        \n",
    "        # return tallies as a tuple\n",
    "        return(n_subscribers, n_customers, n_total)"
   ]
  },
  {
   "cell_type": "code",
   "execution_count": 9,
   "metadata": {},
   "outputs": [
    {
     "name": "stdout",
     "output_type": "stream",
     "text": [
      "(54982, 17149, 72131)\n"
     ]
    }
   ],
   "source": [
    "## Assigning filename (with path) to data_file and calling number_of_trips function ##\n",
    "## to answer question 4a: Which city has the highest number of trips? Which city has## \n",
    "## the highest proportion of trips made by subscribers? Which city has the highest  ##\n",
    "## proportion of trips made by short-term customers? For Chicago City               ##\n",
    "\n",
    "data_file = './data/Chicago-2016-Summary.csv'\n",
    "print(number_of_trips(data_file))"
   ]
  },
  {
   "cell_type": "code",
   "execution_count": 10,
   "metadata": {},
   "outputs": [
    {
     "name": "stdout",
     "output_type": "stream",
     "text": [
      "(51753, 14573, 66326)\n"
     ]
    }
   ],
   "source": [
    "## Assigning filename (with path) to data_file and calling number_of_trips function ##\n",
    "## to answer question 4a: Which city has the highest number of trips? Which city has## \n",
    "## the highest proportion of trips made by subscribers? Which city has the highest  ##\n",
    "## proportion of trips made by short-term customers? For Washington City            ##\n",
    "\n",
    "data_file = './data/Washington-2016-Summary.csv'\n",
    "print(number_of_trips(data_file))"
   ]
  },
  {
   "cell_type": "code",
   "execution_count": 11,
   "metadata": {},
   "outputs": [
    {
     "name": "stdout",
     "output_type": "stream",
     "text": [
      "(245896, 30902, 276798)\n"
     ]
    }
   ],
   "source": [
    "## Assigning filename (with path) to data_file and calling number_of_trips function ##\n",
    "## to answer question 4a: Which city has the highest number of trips? Which city has## \n",
    "## the highest proportion of trips made by subscribers? Which city has the highest  ##\n",
    "## proportion of trips made by short-term customers? For NYC:                       ##\n",
    "\n",
    "data_file = './data/NYC-2016-Summary.csv'\n",
    "print(number_of_trips(data_file))\n"
   ]
  },
  {
   "cell_type": "markdown",
   "metadata": {},
   "source": [
    "> **Tip**: In order to add additional cells to a notebook, you can use the \"Insert Cell Above\" and \"Insert Cell Below\" options from the menu bar above. There is also an icon in the toolbar for adding new cells, with additional icons for moving the cells up and down the document. By default, new cells are of the code type; you can also specify the cell type (e.g. Code or Markdown) of selected cells from the Cell menu or the dropdown in the toolbar.\n",
    "\n",
    "Now, you will write your own code to continue investigating properties of the data.\n",
    "\n",
    "**Question 4b**: Bike-share systems are designed for riders to take short trips. Most of the time, users are allowed to take trips of 30 minutes or less with no additional charges, with overage charges made for trips of longer than that duration. What is the average trip length for each city? What proportion of rides made in each city are longer than 30 minutes?\n",
    "\n",
    "**Answer**: \n",
    "\n",
    "-  ** Chicago: Average trip length is 16.56** minutes - with **6010** trips greater than 30 minutes while **66121** trips less than 30 minutes. \n",
    "-  ** Washington: Average trip length is 18.93** minutes - with **7189** trips greater than 30 minutes while **59137** trips less than 30 minutes.\n",
    "-  ** NYC: Average trip length is 15.81** minutes - with **20213** trips greater than 30 minutes while **256585** trips less than 30 minutes."
   ]
  },
  {
   "cell_type": "code",
   "execution_count": 12,
   "metadata": {
    "collapsed": true,
    "scrolled": true
   },
   "outputs": [],
   "source": [
    "## Funtion to calculate average trip duration for each ##\n",
    "## cities as well as count of trips more than 30 min.  ##\n",
    "\n",
    "def avg_trip_duration(filename):\n",
    "    \"\"\"\n",
    "    This function reads in a file with trip data and reports the number of\n",
    "    trips made by subscribers, customers, and total overall.\n",
    "    \"\"\"\n",
    "    with open(filename, 'r') as f_in:\n",
    "        # set up csv reader object\n",
    "        reader = csv.DictReader(f_in)\n",
    "        \n",
    "        # initialize count variables\n",
    "        rides_greater_30 = 0\n",
    "        rides_less_30 = 0\n",
    "        sum_of_durations = 0\n",
    "        \n",
    "        # tally up rides\n",
    "        for row in reader:\n",
    "            # Adding trip duration for all rides and storing the result in 'sum_of_durations' #\n",
    "            sum_of_durations = sum_of_durations + float(row['duration'])\n",
    "            \n",
    "            # Counting rides for duration more than 30 mins and less than or equal to 30 min. #\n",
    "            if float(row['duration']) > 30:\n",
    "                rides_greater_30 += 1\n",
    "            else:\n",
    "                rides_less_30 += 1\n",
    "                    \n",
    "        # compute total number of rides\n",
    "        total_trips = rides_greater_30 + rides_less_30\n",
    "        # compure average duration\n",
    "        average_duration = sum_of_durations / total_trips\n",
    "        \n",
    "        # return counts and average as a tuple\n",
    "        return(rides_greater_30, rides_less_30, average_duration)\n"
   ]
  },
  {
   "cell_type": "code",
   "execution_count": 13,
   "metadata": {},
   "outputs": [
    {
     "name": "stdout",
     "output_type": "stream",
     "text": [
      "Chicago: (6010, 66121, 16.563629368787335)\n",
      "Washington: (7189, 59137, 18.93287355913721)\n",
      "NYC: (20213, 256585, 15.81259299802294)\n"
     ]
    }
   ],
   "source": [
    "## Assigning filename (with path) to data_filen and calling avg_trip_duration function   ##\n",
    "## to answer question 4b: Bike-share systems are designed for riders to take short trips.##\n",
    "## Most of the time, users are allowed to take trips of 30 minutes or less with no addit-##\n",
    "## ional charges, with overage charges made for trips of longer than that duration. What ##\n",
    "## is the average trip length for each city? What proportion of rides made in each city  ##\n",
    "## are longer than 30 minutes? For Chicago, Washington and NYC.                          ##\n",
    "data_file1 = './data/Chicago-2016-Summary.csv'\n",
    "print(\"Chicago:\",avg_trip_duration(data_file1))\n",
    "data_file2 = './data/Washington-2016-Summary.csv'\n",
    "print(\"Washington:\",avg_trip_duration(data_file2))\n",
    "data_file3 = './data/NYC-2016-Summary.csv'\n",
    "print(\"NYC:\",avg_trip_duration(data_file3))"
   ]
  },
  {
   "cell_type": "markdown",
   "metadata": {},
   "source": [
    "**Question 4c**: Dig deeper into the question of trip duration based on ridership. Choose one city. Within that city, which type of user takes longer rides on average: Subscribers or Customers?\n",
    "\n",
    "**Answer**: \n",
    "** For all cities (Chicago, NYC, and Washington), short-term-customers have longer rides on average. Below is break-down of usage**\n",
    "- ** Chicago:**\n",
    "Average trip duration of subscribers is **12.07** minutes, and **30.98** minutes for short-term-customers.\n",
    "- ** Washington:**\n",
    "Average trip duration of subscriber is **12.53** minutes, and **41.68** minutes for short-term-customers.\n",
    "- ** NYC:**\n",
    "Average trip duration of subscriber is **13.68** minutes, and **32.77** minutes for short-term-customers.\n"
   ]
  },
  {
   "cell_type": "code",
   "execution_count": 14,
   "metadata": {
    "collapsed": true
   },
   "outputs": [],
   "source": [
    "## Funtion to calculate average trip duration for each ##\n",
    "## cities per user_type                                ##\n",
    "\n",
    "def avg_duration_per_user(filename):\n",
    "    \"\"\"\n",
    "    This function reads in a file with trip data and reports the number of\n",
    "    trips made by subscribers, customers, and total overall.\n",
    "    \"\"\"\n",
    "    with open(filename, 'r') as f_in:\n",
    "        # set up csv reader object\n",
    "        reader = csv.DictReader(f_in)\n",
    "        \n",
    "        # initialize count variables for subscribers\n",
    "        s_rides = 0\n",
    "        s_sum_of_durations = 0\n",
    "        \n",
    "        # initialize count variables for customers\n",
    "        c_rides = 0\n",
    "        c_sum_of_durations = 0\n",
    "        \n",
    "        # tally up ride types\n",
    "        for row in reader:\n",
    "            # Counting rides and duration for subscribers \n",
    "            if row['user_type'] == 'Subscriber':\n",
    "                s_sum_of_durations = s_sum_of_durations + float(row['duration'])\n",
    "                s_rides += 1\n",
    "            \n",
    "            # Counting rides greater and duration for customers \n",
    "            else:\n",
    "                c_sum_of_durations = c_sum_of_durations + float(row['duration'])\n",
    "                c_rides += 1\n",
    "            \n",
    "        # computing average trip duration per subscribers and customers\n",
    "        s_average_duration = s_sum_of_durations / s_rides\n",
    "        c_average_duration = c_sum_of_durations / c_rides\n",
    "        \n",
    "        # return tallies as a tuple\n",
    "        return(\"Subscribers:\",s_rides, s_average_duration, \"Customers:\",c_rides, c_average_duration)\n",
    "\n"
   ]
  },
  {
   "cell_type": "code",
   "execution_count": 15,
   "metadata": {},
   "outputs": [
    {
     "name": "stdout",
     "output_type": "stream",
     "text": [
      "Chicago:  ('Subscribers:', 54982, 12.067201690250076, 'Customers:', 17149, 30.979781133982506)\n",
      "Washington:  ('Subscribers:', 51753, 12.528120499294745, 'Customers:', 14573, 41.67803139252976)\n",
      "NYC:  ('Subscribers:', 245896, 13.680790523907177, 'Customers:', 30902, 32.77595139473187)\n"
     ]
    }
   ],
   "source": [
    "## Assigning filename (with path) to data_filen and calling avg_trip_duration function   ##\n",
    "## to answer question 4c: Dig deeper into the question of trip duration based on ridership.##\n",
    "## Choose one city. Within that city, which type of user takes longer rides on average: Subscribers or Customers?\n",
    "\n",
    "data_file1 = './data/Chicago-2016-Summary.csv'\n",
    "print(\"Chicago: \",avg_duration_per_user(data_file1))\n",
    "data_file2 = './data/Washington-2016-Summary.csv'\n",
    "print(\"Washington: \",avg_duration_per_user(data_file2))\n",
    "data_file3 = './data/NYC-2016-Summary.csv'\n",
    "print(\"NYC: \",avg_duration_per_user(data_file3))"
   ]
  },
  {
   "cell_type": "markdown",
   "metadata": {},
   "source": [
    "<a id='visualizations'></a>\n",
    "### Visualizations\n",
    "\n",
    "The last set of values that you computed should have pulled up an interesting result. While the mean trip time for Subscribers is well under 30 minutes, the mean trip time for Customers is actually _above_ 30 minutes! It will be interesting for us to look at how the trip times are distributed. In order to do this, a new library will be introduced here, `matplotlib`. Run the cell below to load the library and to generate an example plot."
   ]
  },
  {
   "cell_type": "code",
   "execution_count": 16,
   "metadata": {},
   "outputs": [
    {
     "data": {
      "image/png": "[encoded data removed]",
      "text/plain": [
       "<matplotlib.figure.Figure at 0x2a594468940>"
      ]
     },
     "metadata": {},
     "output_type": "display_data"
    }
   ],
   "source": [
    "# load library\n",
    "import matplotlib.pyplot as plt\n",
    "\n",
    "# this is a 'magic word' that allows for plots to be displayed\n",
    "# inline with the notebook. If you want to know more, see:\n",
    "# http://ipython.readthedocs.io/en/stable/interactive/magics.html\n",
    "%matplotlib inline \n",
    "\n",
    "# example histogram, data taken from bay area sample\n",
    "data = [ 7.65,  8.92,  7.42,  5.50, 16.17,  4.20,  8.98,  9.62, 11.48, 14.33,\n",
    "        19.02, 21.53,  3.90,  7.97,  2.62,  2.67,  3.08, 14.40, 12.90,  7.83,\n",
    "        25.12,  8.30,  4.93, 12.43, 10.60,  6.17, 10.88,  4.78, 15.15,  3.53,\n",
    "         9.43, 13.32, 11.72,  9.85,  5.22, 15.10,  3.95,  3.17,  8.78,  1.88,\n",
    "         4.55, 12.68, 12.38,  9.78,  7.63,  6.45, 17.38, 11.90, 11.52,  8.63,]\n",
    "plt.hist(data)\n",
    "plt.title('Distribution of Trip Durations')\n",
    "plt.xlabel('Duration (m)')\n",
    "plt.show()"
   ]
  },
  {
   "cell_type": "markdown",
   "metadata": {},
   "source": [
    "In the above cell, we collected fifty trip times in a list, and passed this list as the first argument to the `.hist()` function. This function performs the computations and creates plotting objects for generating a histogram, but the plot is actually not rendered until the `.show()` function is executed. The `.title()` and `.xlabel()` functions provide some labeling for plot context.\n",
    "\n",
    "You will now use these functions to create a histogram of the trip times for the city you selected in question 4c. Don't separate the Subscribers and Customers for now: just collect all of the trip times and plot them."
   ]
  },
  {
   "cell_type": "code",
   "execution_count": 17,
   "metadata": {
    "collapsed": true
   },
   "outputs": [],
   "source": [
    "## Use this and additional cells to collect all of the trip times as a list ##\n",
    "## and then use pyplot functions to generate a histogram of trip times.     ##\n",
    "\n",
    "# Fucntion to list duration for all trips\n",
    "def duration_list(filename):\n",
    "    \"\"\"\n",
    "    This function reads in a file with trip data and reports the number of\n",
    "    trips made by subscribers, customers, and total overall.\n",
    "    \"\"\"\n",
    "    with open(filename, 'r') as f_in:\n",
    "        # set up csv reader object\n",
    "        reader = csv.DictReader(f_in)\n",
    "        \n",
    "        # initialize duration list variable\n",
    "        duration_ls = []\n",
    "        # Add duration of each trip to duration_ls \n",
    "        for row in reader:\n",
    "            duration_ls.append(float(row['duration']))\n",
    "        return duration_ls   "
   ]
  },
  {
   "cell_type": "code",
   "execution_count": 18,
   "metadata": {},
   "outputs": [
    {
     "data": {
      "image/png": "[encoded data removed]",
      "text/plain": [
       "<matplotlib.figure.Figure at 0x2a5967b7978>"
      ]
     },
     "metadata": {},
     "output_type": "display_data"
    }
   ],
   "source": [
    "data_file1 = './data/Chicago-2016-Summary.csv'\n",
    "chicago_duration_list = duration_list(data_file1)\n",
    "import matplotlib.pyplot as plt\n",
    "\n",
    "%matplotlib inline \n",
    "\n",
    "\n",
    "# Plotting histogram for chicago trip durations #\n",
    "# Setting range limit to 80 to avoid outliers.  #\n",
    "plt.hist(chicago_duration_list, range=(0,80))\n",
    "plt.title('Distribution of Trip Durations - Chicago')\n",
    "plt.xlabel('Duration (m)')\n",
    "#v=[0,80,0,80000]\n",
    "#plt.axis(v)\n",
    "plt.show()"
   ]
  },
  {
   "cell_type": "markdown",
   "metadata": {},
   "source": [
    "If you followed the use of the `.hist()` and `.show()` functions exactly like in the example, you're probably looking at a plot that's completely unexpected. The plot consists of one extremely tall bar on the left, maybe a very short second bar, and a whole lot of empty space in the center and right. Take a look at the duration values on the x-axis. This suggests that there are some highly infrequent outliers in the data. Instead of reprocessing the data, you will use additional parameters with the `.hist()` function to limit the range of data that is plotted. Documentation for the function can be found [[here]](https://matplotlib.org/devdocs/api/_as_gen/matplotlib.pyplot.hist.html#matplotlib.pyplot.hist).\n",
    "\n",
    "**Question 5**: Use the parameters of the `.hist()` function to plot the distribution of trip times for the Subscribers in your selected city. Do the same thing for only the Customers. Add limits to the plots so that only trips of duration less than 75 minutes are plotted. As a bonus, set the plots up so that bars are in five-minute wide intervals. For each group, where is the peak of each distribution? How would you describe the shape of each distribution?\n",
    "\n",
    "**Answer**: \n",
    "Chicago Data is taken for this question.\n",
    "For subscribers, peak is on 5 to 10 minutes trip duration. The histogram for subscribers is 'Skewed right' (positive skewed).\n",
    "For customers, peak is on 20 to 25 minutes trip duration. The histogram for customers is also 'Skewed right' (positive skewed)."
   ]
  },
  {
   "cell_type": "code",
   "execution_count": 19,
   "metadata": {
    "collapsed": true
   },
   "outputs": [],
   "source": [
    "## Use this and additional cells to answer Question 5. ##\n",
    "# load library\n",
    "import matplotlib.pyplot as plt\n",
    "%matplotlib inline \n",
    "\n",
    "# Fucntion to list duration for all trips per subscriber and customer\n",
    "def duration_list_per_usertype(filename):\n",
    "    \"\"\"\n",
    "    This function reads in a file with trip data and reports the number of\n",
    "    trips made by subscribers, customers, and total overall.\n",
    "    \"\"\"\n",
    "    with open(filename, 'r') as f_in:\n",
    "        # set up csv reader object\n",
    "        reader = csv.DictReader(f_in)\n",
    "        \n",
    "        # initialize duration list variables for subscribers and customers\n",
    "        s_duration_ls = [] \n",
    "        c_duration_ls = []\n",
    "        # tally up duration based on user_type\n",
    "        for row in reader:\n",
    "            if row['user_type'] == 'Subscriber':\n",
    "                s_duration_ls.append(float(row['duration']))\n",
    "            else:\n",
    "                c_duration_ls.append(float(row['duration']))\n",
    "        \n",
    "        # Returning duration list for both subscribers and customers \n",
    "        return (s_duration_ls,c_duration_ls)\n",
    "        \n",
    "\n"
   ]
  },
  {
   "cell_type": "code",
   "execution_count": 20,
   "metadata": {},
   "outputs": [
    {
     "data": {
      "image/png": "[encoded data removed]",
      "text/plain": [
       "<matplotlib.figure.Figure at 0x2a59681ed30>"
      ]
     },
     "metadata": {},
     "output_type": "display_data"
    }
   ],
   "source": [
    "## Assigning filename (with path) to data_file1 and calling ##\n",
    "## duration_list_per_usertype function to answer question 5 ## \n",
    "data_file1 = './data/Chicago-2016-Summary.csv'\n",
    "chicago_subscriber_duration_list = duration_list_per_usertype(data_file1)\n",
    "\n",
    "# Plotting Histogram for Chicago Subscribers and setting range from 0-75, with duration width as 5 (bin size)\n",
    "plt.hist(chicago_subscriber_duration_list[0], range=(0,75),bins=[5,10,15,20,25,30,35,40,45,50,55,60,65,70,75])\n",
    "plt.title('Distribution of Trip Durations - Chicago Subscribers')\n",
    "plt.xlabel('Duration (m)')\n",
    "plt.show()"
   ]
  },
  {
   "cell_type": "code",
   "execution_count": 21,
   "metadata": {},
   "outputs": [
    {
     "data": {
      "image/png": "[encoded data removed]",
      "text/plain": [
       "<matplotlib.figure.Figure at 0x2a596a594e0>"
      ]
     },
     "metadata": {},
     "output_type": "display_data"
    }
   ],
   "source": [
    "## Assigning filename (with path) to data_file1 and calling ##\n",
    "## duration_list_per_usertype function to answer question 5 ## \n",
    "data_file1 = './data/Chicago-2016-Summary.csv'\n",
    "chicago_subscriber_duration_list = duration_list_per_usertype(data_file1)\n",
    "\n",
    "# Plotting Histogram for Chicago Customers and setting range from 0-75, with duration width as 5 (bin size)\n",
    "plt.hist(chicago_subscriber_duration_list[1], range=(0,75), bins=[5,10,15,20,25,30,35,40,45,50,55,60,65,70,75])\n",
    "plt.title('Distribution of Trip Durations - Chicago Customers')\n",
    "plt.xlabel('Duration (m)')\n",
    "plt.show()"
   ]
  },
  {
   "cell_type": "markdown",
   "metadata": {
    "collapsed": true
   },
   "source": [
    "<a id='eda_continued'></a>\n",
    "## Performing Your Own Analysis\n",
    "\n",
    "So far, you've performed an initial exploration into the data available. You have compared the relative volume of trips made between three U.S. cities and the ratio of trips made by Subscribers and Customers. For one of these cities, you have investigated differences between Subscribers and Customers in terms of how long a typical trip lasts. Now it is your turn to continue the exploration in a direction that you choose. Here are a few suggestions for questions to explore:\n",
    "\n",
    "- How does ridership differ by month or season? Which month / season has the highest ridership? Does the ratio of Subscriber trips to Customer trips change depending on the month or season?\n",
    "- Is the pattern of ridership different on the weekends versus weekdays? On what days are Subscribers most likely to use the system? What about Customers? Does the average duration of rides change depending on the day of the week?\n",
    "- During what time of day is the system used the most? Is there a difference in usage patterns for Subscribers and Customers?\n",
    "\n",
    "If any of the questions you posed in your answer to question 1 align with the bullet points above, this is a good opportunity to investigate one of them. As part of your investigation, you will need to create a visualization. If you want to create something other than a histogram, then you might want to consult the [Pyplot documentation](https://matplotlib.org/devdocs/api/pyplot_summary.html). In particular, if you are plotting values across a categorical variable (e.g. city, user type), a bar chart will be useful. The [documentation page for `.bar()`](https://matplotlib.org/devdocs/api/_as_gen/matplotlib.pyplot.bar.html#matplotlib.pyplot.bar) includes links at the bottom of the page with examples for you to build off of for your own use.\n",
    "\n",
    "**Question 6**: Continue the investigation by exploring another question that could be answered by the data available. Document the question you want to explore below. Your investigation should involve at least two variables and should compare at least two groups. You should also use at least one visualization as part of your explorations.\n",
    "\n",
    "**Answer**: \n",
    "\n",
    "** Chicago Data Used For analysis **\n",
    "\n",
    "- How does ridership differ by month or season? Which month / season has the highest ridership? Does the ratio of Subscriber trips to Customer trips change depending on the month or season?\n",
    "    - ** Yes, ridership differ each month. The month of July have highest ridership and summer season (June, July and August) has most ridership in an year. Winter season (December, January and February) is least ridership season.  **\n",
    "- Is the pattern of ridership different on the weekends versus weekdays? On what days are Subscribers most likely to use the system? What about Customers? Does the average duration of rides change depending on the day of the week?\n",
    "    - ** Although there is not a huge difference in ridership on the daily basis per week, Mondays, Tuesdays and Fridays has slightly higher ridership than other days of the week. Weekend (Saturday and Sunday) usage is almost similar to ridership on Thursdays and Wednesdays respectively**\n",
    "- During what time of day is the system used the most? Is there a difference in usage patterns for Subscribers and Customers?\n",
    "    - ** Most usage occures in the hours of 8AM and 9AM followed by 6 PM **.\n",
    "    \n",
    "    \n",
    "-Questions from ** Question 1 ** of this project: -\n",
    "- What is the peak usage time for bike sharing - peak time of the day, of the week, of month and of the year, etc? \n",
    "    - ** This question is already answered above as this question was also posed as part of project under Question 6. **\n",
    "- What are the locations mostly used to pickup and drop bike? \n",
    "    - ** Although, this question seems to be addressable based on provided data, but the locations are about 550 for Chicago city. I would like to pass this question for now, and maybe work on this at a later time ** \n",
    "- What percentage of total users re-use the service and how regularly? \n",
    "    - ** This question is kindof covered under Question 4c where number of rides per usertype was calculated. For city of Chicago: Number of rides by Subscribers are 54982 - which is 76% of total usage, while number of rides by Short-term Customers are 17149 - which is 24% of total usage. **\n",
    "- Data can also be used to answer questions related to the customer.Like - who uses the service most - Male/female, age group and - how many of these are subscribers or one-timers\n",
    "    - ** Most trips made are by males. Sum of trips where gender information was not provided and trips with female users are still less than trips with gender information as Male **\n",
    "    - ** Most of the trips don't have year of birth information. Considering instances where this information is available, most trips are made by users with birth year 1989 (about 28 years as of today)**"
   ]
  },
  {
   "cell_type": "code",
   "execution_count": 26,
   "metadata": {
    "collapsed": true
   },
   "outputs": [],
   "source": [
    "# Functions to perform Studies\n",
    "\n",
    "# Function to calculate Monthly usage\n",
    "def study_month(filename):\n",
    "    \"\"\"\n",
    "    This function reads in a file with trip data and reports the number of\n",
    "    trips made by subscribers, customers, and total overall.\n",
    "    \"\"\"\n",
    "    with open(filename, 'r') as f_in:\n",
    "        # set up csv reader object\n",
    "        reader = csv.DictReader(f_in)\n",
    "    \n",
    "        Month_counts = {}\n",
    "        for row in reader:\n",
    "            \n",
    "            formatted_Month = datetime.datetime.strptime(row['month'],'%m')\n",
    "            months = formatted_Month.strftime('%b')\n",
    "            if months not in Month_counts:\n",
    "                Month_counts[(months)] = 1\n",
    "            else:\n",
    "                Month_counts[(months)] += 1\n",
    "        return Month_counts\n",
    "\n",
    "# Function to Calculate ridership per day of the week\n",
    "def study_dayofweek(filename):\n",
    "    \"\"\"\n",
    "    This function reads in a file with trip data and reports the number of\n",
    "    trips made by subscribers, customers, and total overall.\n",
    "    \"\"\"\n",
    "    with open(filename, 'r') as f_in:\n",
    "        # set up csv reader object\n",
    "        reader = csv.DictReader(f_in)\n",
    "    \n",
    "        day_counts = {}\n",
    "        for row in reader:\n",
    "            if row['day_of_week'] not in day_counts:\n",
    "                day_counts[row['day_of_week']] = 1\n",
    "            else:\n",
    "                day_counts[row['day_of_week']] += 1\n",
    "        return day_counts\n",
    "\n",
    "# Function to calculate ridership per Hour of the day\n",
    "def study_hr(filename):\n",
    "    with open(filename, 'r') as f_in:\n",
    "        # set up csv reader object\n",
    "        reader = csv.DictReader(f_in)\n",
    "        \n",
    "        hr_counts = {}\n",
    "        for row in reader:\n",
    "            if row['hour'] not in hr_counts:\n",
    "                hr_counts[row['hour']] = 1\n",
    "            else:\n",
    "                hr_counts[row['hour']] += 1\n",
    "        return hr_counts\n",
    "\n",
    "# Function to calculate gender distribution \n",
    "def study_gender(filename):\n",
    "    with open(filename, 'r') as f_in:\n",
    "        # set up csv reader object\n",
    "        reader = csv.DictReader(f_in)\n",
    "        \n",
    "        gender_counts = {}\n",
    "        for row in reader:\n",
    "            if row['gender'] not in gender_counts:\n",
    "                gender_counts[row['gender']] = 1\n",
    "            else:\n",
    "                gender_counts[row['gender']] += 1\n",
    "        return gender_counts\n",
    "    \n",
    "# Function to calculate gender distribution \n",
    "def study_birthyear(filename):\n",
    "    with open(filename, 'r') as f_in:\n",
    "        # set up csv reader object\n",
    "        reader = csv.DictReader(f_in)\n",
    "        \n",
    "        birthyear_counts = {}\n",
    "        for row in reader:\n",
    "            if row['birthyear'] not in birthyear_counts:\n",
    "                birthyear_counts[row['birthyear']] = 1\n",
    "            else:\n",
    "                birthyear_counts[row['birthyear']] += 1\n",
    "        return birthyear_counts\n"
   ]
  },
  {
   "cell_type": "code",
   "execution_count": 27,
   "metadata": {},
   "outputs": [
    {
     "ename": "TypeError",
     "evalue": "'dict_keys' object does not support indexing",
     "output_type": "error",
     "traceback": [
      "\u001b[1;31m---------------------------------------------------------------------------\u001b[0m",
      "\u001b[1;31mTypeError\u001b[0m                                 Traceback (most recent call last)",
      "\u001b[1;32m<ipython-input-27-4b9517a74be9>\u001b[0m in \u001b[0;36m<module>\u001b[1;34m()\u001b[0m\n\u001b[0;32m     15\u001b[0m \u001b[0mplt\u001b[0m\u001b[1;33m.\u001b[0m\u001b[0mtitle\u001b[0m\u001b[1;33m(\u001b[0m\u001b[1;34m'Distribution of Monthly usage - Chicago'\u001b[0m\u001b[1;33m)\u001b[0m\u001b[1;33m\u001b[0m\u001b[0m\n\u001b[0;32m     16\u001b[0m \u001b[0mplt\u001b[0m\u001b[1;33m.\u001b[0m\u001b[0mxlabel\u001b[0m\u001b[1;33m(\u001b[0m\u001b[1;34m'Month'\u001b[0m\u001b[1;33m)\u001b[0m\u001b[1;33m\u001b[0m\u001b[0m\n\u001b[1;32m---> 17\u001b[1;33m \u001b[0mplt\u001b[0m\u001b[1;33m.\u001b[0m\u001b[0mbar\u001b[0m\u001b[1;33m(\u001b[0m\u001b[0mM\u001b[0m\u001b[1;33m.\u001b[0m\u001b[0mkeys\u001b[0m\u001b[1;33m(\u001b[0m\u001b[1;33m)\u001b[0m\u001b[1;33m,\u001b[0m \u001b[0mM\u001b[0m\u001b[1;33m.\u001b[0m\u001b[0mvalues\u001b[0m\u001b[1;33m(\u001b[0m\u001b[1;33m)\u001b[0m\u001b[1;33m,\u001b[0m \u001b[0malign\u001b[0m\u001b[1;33m=\u001b[0m\u001b[1;34m\"center\"\u001b[0m\u001b[1;33m)\u001b[0m\u001b[1;33m\u001b[0m\u001b[0m\n\u001b[0m\u001b[0;32m     18\u001b[0m \u001b[0mplt\u001b[0m\u001b[1;33m.\u001b[0m\u001b[0mshow\u001b[0m\u001b[1;33m(\u001b[0m\u001b[1;33m)\u001b[0m\u001b[1;33m\u001b[0m\u001b[0m\n\u001b[0;32m     19\u001b[0m \u001b[1;33m\u001b[0m\u001b[0m\n",
      "\u001b[1;32mC:\\ProgramData\\Anaconda3\\lib\\site-packages\\matplotlib\\pyplot.py\u001b[0m in \u001b[0;36mbar\u001b[1;34m(left, height, width, bottom, hold, data, **kwargs)\u001b[0m\n\u001b[0;32m   2702\u001b[0m     \u001b[1;32mtry\u001b[0m\u001b[1;33m:\u001b[0m\u001b[1;33m\u001b[0m\u001b[0m\n\u001b[0;32m   2703\u001b[0m         ret = ax.bar(left, height, width=width, bottom=bottom, data=data,\n\u001b[1;32m-> 2704\u001b[1;33m                      **kwargs)\n\u001b[0m\u001b[0;32m   2705\u001b[0m     \u001b[1;32mfinally\u001b[0m\u001b[1;33m:\u001b[0m\u001b[1;33m\u001b[0m\u001b[0m\n\u001b[0;32m   2706\u001b[0m         \u001b[0max\u001b[0m\u001b[1;33m.\u001b[0m\u001b[0m_hold\u001b[0m \u001b[1;33m=\u001b[0m \u001b[0mwashold\u001b[0m\u001b[1;33m\u001b[0m\u001b[0m\n",
      "\u001b[1;32mC:\\ProgramData\\Anaconda3\\lib\\site-packages\\matplotlib\\__init__.py\u001b[0m in \u001b[0;36minner\u001b[1;34m(ax, *args, **kwargs)\u001b[0m\n\u001b[0;32m   1895\u001b[0m                     warnings.warn(msg % (label_namer, func.__name__),\n\u001b[0;32m   1896\u001b[0m                                   RuntimeWarning, stacklevel=2)\n\u001b[1;32m-> 1897\u001b[1;33m             \u001b[1;32mreturn\u001b[0m \u001b[0mfunc\u001b[0m\u001b[1;33m(\u001b[0m\u001b[0max\u001b[0m\u001b[1;33m,\u001b[0m \u001b[1;33m*\u001b[0m\u001b[0margs\u001b[0m\u001b[1;33m,\u001b[0m \u001b[1;33m**\u001b[0m\u001b[0mkwargs\u001b[0m\u001b[1;33m)\u001b[0m\u001b[1;33m\u001b[0m\u001b[0m\n\u001b[0m\u001b[0;32m   1898\u001b[0m         \u001b[0mpre_doc\u001b[0m \u001b[1;33m=\u001b[0m \u001b[0minner\u001b[0m\u001b[1;33m.\u001b[0m\u001b[0m__doc__\u001b[0m\u001b[1;33m\u001b[0m\u001b[0m\n\u001b[0;32m   1899\u001b[0m         \u001b[1;32mif\u001b[0m \u001b[0mpre_doc\u001b[0m \u001b[1;32mis\u001b[0m \u001b[1;32mNone\u001b[0m\u001b[1;33m:\u001b[0m\u001b[1;33m\u001b[0m\u001b[0m\n",
      "\u001b[1;32mC:\\ProgramData\\Anaconda3\\lib\\site-packages\\matplotlib\\axes\\_axes.py\u001b[0m in \u001b[0;36mbar\u001b[1;34m(self, left, height, width, bottom, **kwargs)\u001b[0m\n\u001b[0;32m   2103\u001b[0m         \u001b[1;32mif\u001b[0m \u001b[0malign\u001b[0m \u001b[1;33m==\u001b[0m \u001b[1;34m'center'\u001b[0m\u001b[1;33m:\u001b[0m\u001b[1;33m\u001b[0m\u001b[0m\n\u001b[0;32m   2104\u001b[0m             \u001b[1;32mif\u001b[0m \u001b[0morientation\u001b[0m \u001b[1;33m==\u001b[0m \u001b[1;34m'vertical'\u001b[0m\u001b[1;33m:\u001b[0m\u001b[1;33m\u001b[0m\u001b[0m\n\u001b[1;32m-> 2105\u001b[1;33m                 \u001b[0mleft\u001b[0m \u001b[1;33m=\u001b[0m \u001b[1;33m[\u001b[0m\u001b[0mleft\u001b[0m\u001b[1;33m[\u001b[0m\u001b[0mi\u001b[0m\u001b[1;33m]\u001b[0m \u001b[1;33m-\u001b[0m \u001b[0mwidth\u001b[0m\u001b[1;33m[\u001b[0m\u001b[0mi\u001b[0m\u001b[1;33m]\u001b[0m \u001b[1;33m/\u001b[0m \u001b[1;36m2.\u001b[0m \u001b[1;32mfor\u001b[0m \u001b[0mi\u001b[0m \u001b[1;32min\u001b[0m \u001b[0mxrange\u001b[0m\u001b[1;33m(\u001b[0m\u001b[0mlen\u001b[0m\u001b[1;33m(\u001b[0m\u001b[0mleft\u001b[0m\u001b[1;33m)\u001b[0m\u001b[1;33m)\u001b[0m\u001b[1;33m]\u001b[0m\u001b[1;33m\u001b[0m\u001b[0m\n\u001b[0m\u001b[0;32m   2106\u001b[0m             \u001b[1;32melif\u001b[0m \u001b[0morientation\u001b[0m \u001b[1;33m==\u001b[0m \u001b[1;34m'horizontal'\u001b[0m\u001b[1;33m:\u001b[0m\u001b[1;33m\u001b[0m\u001b[0m\n\u001b[0;32m   2107\u001b[0m                 bottom = [bottom[i] - height[i] / 2.\n",
      "\u001b[1;32mC:\\ProgramData\\Anaconda3\\lib\\site-packages\\matplotlib\\axes\\_axes.py\u001b[0m in \u001b[0;36m<listcomp>\u001b[1;34m(.0)\u001b[0m\n\u001b[0;32m   2103\u001b[0m         \u001b[1;32mif\u001b[0m \u001b[0malign\u001b[0m \u001b[1;33m==\u001b[0m \u001b[1;34m'center'\u001b[0m\u001b[1;33m:\u001b[0m\u001b[1;33m\u001b[0m\u001b[0m\n\u001b[0;32m   2104\u001b[0m             \u001b[1;32mif\u001b[0m \u001b[0morientation\u001b[0m \u001b[1;33m==\u001b[0m \u001b[1;34m'vertical'\u001b[0m\u001b[1;33m:\u001b[0m\u001b[1;33m\u001b[0m\u001b[0m\n\u001b[1;32m-> 2105\u001b[1;33m                 \u001b[0mleft\u001b[0m \u001b[1;33m=\u001b[0m \u001b[1;33m[\u001b[0m\u001b[0mleft\u001b[0m\u001b[1;33m[\u001b[0m\u001b[0mi\u001b[0m\u001b[1;33m]\u001b[0m \u001b[1;33m-\u001b[0m \u001b[0mwidth\u001b[0m\u001b[1;33m[\u001b[0m\u001b[0mi\u001b[0m\u001b[1;33m]\u001b[0m \u001b[1;33m/\u001b[0m \u001b[1;36m2.\u001b[0m \u001b[1;32mfor\u001b[0m \u001b[0mi\u001b[0m \u001b[1;32min\u001b[0m \u001b[0mxrange\u001b[0m\u001b[1;33m(\u001b[0m\u001b[0mlen\u001b[0m\u001b[1;33m(\u001b[0m\u001b[0mleft\u001b[0m\u001b[1;33m)\u001b[0m\u001b[1;33m)\u001b[0m\u001b[1;33m]\u001b[0m\u001b[1;33m\u001b[0m\u001b[0m\n\u001b[0m\u001b[0;32m   2106\u001b[0m             \u001b[1;32melif\u001b[0m \u001b[0morientation\u001b[0m \u001b[1;33m==\u001b[0m \u001b[1;34m'horizontal'\u001b[0m\u001b[1;33m:\u001b[0m\u001b[1;33m\u001b[0m\u001b[0m\n\u001b[0;32m   2107\u001b[0m                 bottom = [bottom[i] - height[i] / 2.\n",
      "\u001b[1;31mTypeError\u001b[0m: 'dict_keys' object does not support indexing"
     ]
    },
    {
     "data": {
      "image/png": "[encoded data removed]",
      "text/plain": [
       "<matplotlib.figure.Figure at 0x2a596afe8d0>"
      ]
     },
     "metadata": {},
     "output_type": "display_data"
    }
   ],
   "source": [
    "## Use this and additional cells to continue to explore the dataset. ##\n",
    "## Once you have performed your exploration, document your findings  ##\n",
    "## in the Markdown cell above.                                       ##\n",
    "data_file = './data/Chicago-2016-Summary.csv'\n",
    "data_file2 = './data/Chicago-Divvy-2016.csv'\n",
    "M = study_month(data_file)\n",
    "D = study_dayofweek(data_file)\n",
    "H = study_hr(data_file)\n",
    "G = study_gender(data_file2)\n",
    "B = study_birthyear(data_file2)\n",
    "\n",
    "import matplotlib.pyplot as plt\n",
    "%matplotlib inline \n",
    "\n",
    "plt.title('Distribution of Monthly usage - Chicago')\n",
    "plt.xlabel('Month')\n",
    "plt.bar(M.keys(), M.values(), align=\"center\")\n",
    "plt.show()\n",
    "\n",
    "plt.title('Distribution of Daily usage - Chicago')\n",
    "plt.xlabel('Day of Week')\n",
    "plt.bar(D.keys(), D.values(), align=\"center\")\n",
    "plt.show()\n",
    "\n",
    "plt.title('Distribution of Hourly usage - Chicago')\n",
    "plt.xlabel('Hour of the Day')\n",
    "plt.bar(H.keys(), H.values(), align=\"center\")\n",
    "plt.show()\n",
    "\n",
    "plt.title('Distribution of Gender Usage - Chicago')\n",
    "plt.xlabel('Gender')\n",
    "plt.bar(G.keys(), G.values(), align=\"center\")\n",
    "plt.show()\n",
    "\n",
    "plt.title('Distribution of Age Usage - Chicago')\n",
    "plt.xlabel('Birth Year')\n",
    "plt.bar(B.keys(), B.values())\n",
    "plt.xticks(rotation=90)\n",
    "axes = plt.gca()\n",
    "axes.set_xlim([1960,1995])\n",
    "plt.show()"
   ]
  },
  {
   "cell_type": "code",
   "execution_count": 35,
   "metadata": {},
   "outputs": [
    {
     "data": {
      "text/plain": [
       "{'Friday': 2093,\n",
       " 'Monday': 2446,\n",
       " 'Saturday': 4251,\n",
       " 'Sunday': 4282,\n",
       " 'Thursday': 1365,\n",
       " 'Tuesday': 1555,\n",
       " 'Wednesday': 1157}"
      ]
     },
     "execution_count": 35,
     "metadata": {},
     "output_type": "execute_result"
    }
   ],
   "source": [
    "# Function to Calculate Month, Day and Hr of rides per UserType\n",
    "def study_usertype(filename):\n",
    "\n",
    "    with open(filename, 'r') as f_in:\n",
    "        # set up csv reader object\n",
    "        reader = csv.DictReader(f_in)\n",
    "    \n",
    "        Sub_month = {}\n",
    "        Sub_day = {}\n",
    "        Sub_hr ={}\n",
    "        Cus_month ={}\n",
    "        Cus_day = {} \n",
    "        Cus_hr ={}\n",
    "        for row in reader:\n",
    "            if row['user_type'] == 'Subscriber':\n",
    "                if row['day_of_week'] not in Sub_day:\n",
    "                    Sub_day[row['day_of_week']] = 1\n",
    "                else:\n",
    "                    Sub_day[row['day_of_week']] += 1\n",
    "                ##elif row['hour'] not in Sub_hr:\n",
    "                ##    Sub_hr[row['hour']] = 1\n",
    "                ##else:\n",
    "                ##    Sub_hr[row['hour']] += 1\n",
    "            else:\n",
    "                if row['day_of_week'] not in Cus_day:\n",
    "                    Cus_day [row['day_of_week']] = 1\n",
    "                else:\n",
    "                    Cus_day [row['day_of_week']] += 1\n",
    "                ##elif row['hour'] not in Cus_hr:\n",
    "                ##    Cus_hr[row['hour']] = 1\n",
    "                ##else:\n",
    "                ##    Cus_hr[row['hour']] += 1 \n",
    "    \n",
    "    return(Cus_day)\n",
    "        \n",
    "data_file = './data/Chicago-2016-Summary.csv'\n",
    "study_usertype(data_file)"
   ]
  },
  {
   "cell_type": "markdown",
   "metadata": {},
   "source": [
    "<a id='conclusions'></a>\n",
    "## Conclusions\n",
    "\n",
    "Congratulations on completing the project! This is only a sampling of the data analysis process: from generating questions, wrangling the data, and to exploring the data. Normally, at this point in the data analysis process, you might want to draw conclusions about the data by performing a statistical test or fitting the data to a model for making predictions. There are also a lot of potential analyses that could be performed on the data which are not possible with only the data provided. For example, detailed location data has not been investigated. Where are the most commonly used docks? What are the most common routes? As another example, weather has potential to have a large impact on daily ridership. How much is ridership impacted when there is rain or snow? Are subscribers or customers affected more by changes in weather?\n",
    "\n",
    "**Question 7**: Putting the bike share data aside, think of a topic or field of interest where you would like to be able to apply the techniques of data science. What would you like to be able to learn from your chosen subject?\n",
    "\n",
    "**Answer**: \n",
    "Being an RF engineer, I would like to apply these techniques to be able to answer questions like - what is the peak time (day/hour) of cellular traffic for a given location (project/city/regional/national), what type of user activity (voice/data session) happens mostly, what is relation between time/day and user traffic for a perticular location. This will help to identify busy hour/day of the project and allow us to look deeper into KPIs for those hours/days to make sure project is meeting the acceptable KPIs for high traffic hours - no congestions, failures, etcs.\n",
    "\n",
    "And as part of project tracking, few other activities I can think of is, to be able to check what type of projects take how long to close from begining of project start to end, how many projects took more than 30 days to close-out, what is the maximum reason for cause of delay, etc. This will help to identify major delay reason and help towards meeting project timelines. \n",
    "\n",
    "> **Tip**: If we want to share the results of our analysis with others, we aren't limited to giving them a copy of the jupyter Notebook (.ipynb) file. We can also export the Notebook output in a form that can be opened even for those without Python installed. From the **File** menu in the upper left, go to the **Download as** submenu. You can then choose a different format that can be viewed more generally, such as HTML (.html) or\n",
    "PDF (.pdf). You may need additional packages or software to perform these exports.\n",
    "\n",
    "## References\n",
    "1. PyPlot Histogram <a>https://matplotlib.org/devdocs/api/_as_gen/matplotlib.pyplot.hist.html</a>\n",
    "2. Types of Histograms <a>http://asq.org/learn-about-quality/data-collection-analysis-tools/overview/histogram2.html</a>\n",
    "3. Pyplot Bar Graph: <a> https://stackoverflow.com/questions/21925007/using-dictionary-to-make-a-matplotlib-graph </a>\n",
    "4. Pyplot Bar Graph - Axis Ranges: <a>https://stackoverflow.com/questions/3777861/setting-y-axis-limit-in-matplotlib </a>\n",
    "5. PyPlot Bar Graph - Axis Rotation: <a> https://stackoverflow.com/questions/10998621/rotate-axis-text-in-python-matplotlib </a>\n",
    "\n",
    "\n",
    "\n"
   ]
  },
  {
   "cell_type": "code",
   "execution_count": null,
   "metadata": {
    "collapsed": true
   },
   "outputs": [],
   "source": []
  }
 ],
 "metadata": {
  "anaconda-cloud": {},
  "kernelspec": {
   "display_name": "Python 3",
   "language": "python",
   "name": "python3"
  },
  "language_info": {
   "codemirror_mode": {
    "name": "ipython",
    "version": 3
   },
   "file_extension": ".py",
   "mimetype": "text/x-python",
   "name": "python",
   "nbconvert_exporter": "python",
   "pygments_lexer": "ipython3",
   "version": "3.6.1"
  }
 },
 "nbformat": 4,
 "nbformat_minor": 1
}
